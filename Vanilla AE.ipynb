{
 "cells": [
  {
   "cell_type": "code",
   "execution_count": 2,
   "metadata": {},
   "outputs": [
    {
     "name": "stderr",
     "output_type": "stream",
     "text": [
      "/anaconda3/lib/python3.6/site-packages/h5py/__init__.py:36: FutureWarning: Conversion of the second argument of issubdtype from `float` to `np.floating` is deprecated. In future, it will be treated as `np.float64 == np.dtype(float).type`.\n",
      "  from ._conv import register_converters as _register_converters\n",
      "Using TensorFlow backend.\n"
     ]
    }
   ],
   "source": [
    "from tensorflow.examples.tutorials.mnist import input_data\n",
    "from keras.layers import Input, Dense, Conv2D, MaxPooling2D, UpSampling2D, Flatten, Reshape\n",
    "from keras.models import Model\n",
    "from keras.optimizers import Adam\n",
    "\n",
    "import pandas as pd\n",
    "import os\n",
    "import re\n",
    "import path\n",
    "import cv2\n",
    "import glob\n",
    "from sklearn.model_selection import train_test_split\n",
    "import numpy as np\n",
    "import matplotlib.pyplot as plt\n",
    "import keras.backend as K\n",
    "import tensorflow as tf"
   ]
  },
  {
   "cell_type": "code",
   "execution_count": 13,
   "metadata": {},
   "outputs": [],
   "source": [
    "im_size = 4096"
   ]
  },
  {
   "cell_type": "code",
   "execution_count": 3,
   "metadata": {},
   "outputs": [
    {
     "name": "stdout",
     "output_type": "stream",
     "text": [
      "Extracting ../data/MNIST_data/train-images-idx3-ubyte.gz\n",
      "Extracting ../data/MNIST_data/train-labels-idx1-ubyte.gz\n",
      "Extracting ../data/MNIST_data/t10k-images-idx3-ubyte.gz\n",
      "Extracting ../data/MNIST_data/t10k-labels-idx1-ubyte.gz\n"
     ]
    }
   ],
   "source": [
    "#Mnist data extract and train-test split\n",
    "mnist = input_data.read_data_sets('../data/MNIST_data', one_hot=True)\n",
    "X_train, _ = mnist.train.images, mnist.train.labels\n",
    "X_test,_ = mnist.test.images, mnist.test.labels"
   ]
  },
  {
   "cell_type": "code",
   "execution_count": 52,
   "metadata": {},
   "outputs": [
    {
     "name": "stderr",
     "output_type": "stream",
     "text": [
      "/anaconda3/lib/python3.6/site-packages/ipykernel_launcher.py:5: UserWarning: Update your `Model` call to the Keras 2 API: `Model(inputs=Tensor(\"in..., outputs=Tensor(\"de...)`\n",
      "  \"\"\"\n",
      "/anaconda3/lib/python3.6/site-packages/ipykernel_launcher.py:7: UserWarning: The `nb_epoch` argument in `fit` has been renamed `epochs`.\n",
      "  import sys\n"
     ]
    },
    {
     "name": "stdout",
     "output_type": "stream",
     "text": [
      "Epoch 1/5\n",
      "55000/55000 [==============================] - 2s 31us/step - loss: 0.0333\n",
      "Epoch 2/5\n",
      "55000/55000 [==============================] - 1s 26us/step - loss: 0.0145\n",
      "Epoch 3/5\n",
      "55000/55000 [==============================] - 1s 26us/step - loss: 0.0115\n",
      "Epoch 4/5\n",
      "55000/55000 [==============================] - 1s 26us/step - loss: 0.0107\n",
      "Epoch 5/5\n",
      "55000/55000 [==============================] - 1s 25us/step - loss: 0.0104\n"
     ]
    },
    {
     "data": {
      "text/plain": [
       "<keras.callbacks.History at 0x1c2c3e7518>"
      ]
     },
     "execution_count": 52,
     "metadata": {},
     "output_type": "execute_result"
    }
   ],
   "source": [
    "#3 layer Vanilla AutoEncoder\n",
    "inputs = Input(shape=(784,))\n",
    "h = Dense(64, activation='sigmoid')(inputs)\n",
    "outputs = Dense(784)(h)\n",
    "\n",
    "model = Model(input=inputs, output=outputs)\n",
    "model.compile(optimizer='adam', loss='mse')\n",
    "model.fit(X, X, batch_size=64, nb_epoch=5)"
   ]
  },
  {
   "cell_type": "code",
   "execution_count": 54,
   "metadata": {},
   "outputs": [],
   "source": [
    "X_pred = model.predict(X_test)"
   ]
  },
  {
   "cell_type": "code",
   "execution_count": 55,
   "metadata": {},
   "outputs": [
    {
     "data": {
      "image/png": "[encoded data removed]",
      "text/plain": [
       "<Figure size 432x288 with 3 Axes>"
      ]
     },
     "metadata": {},
     "output_type": "display_data"
    }
   ],
   "source": [
    "plt.figure(1)\n",
    "plt.subplot(131)\n",
    "plt.imshow(X_test[0].reshape(28,28))\n",
    "plt.subplot(132)\n",
    "plt.imshow(layer_output[0].reshape(8,8))\n",
    "plt.subplot(133)\n",
    "plt.imshow(X_pred[0].reshape(28,28))\n",
    "\n",
    "\n",
    "plt.show()\n"
   ]
  },
  {
   "cell_type": "code",
   "execution_count": 6,
   "metadata": {},
   "outputs": [],
   "source": [
    "seq = [str(i).zfill(4) for i in range(1,11)]"
   ]
  },
  {
   "cell_type": "code",
   "execution_count": 7,
   "metadata": {},
   "outputs": [
    {
     "name": "stdout",
     "output_type": "stream",
     "text": [
      "(118, 64, 64)\n"
     ]
    }
   ],
   "source": [
    "images = []\n",
    "d= {}\n",
    "for s in seq:\n",
    "    for file in glob.glob('GSCdata/'+s+'*png'):\n",
    "        images.append(cv2.imread(file,0))\n",
    "#     images = cv2.imread(file,0) for file in glob.glob('GSCdata/'+s+'*png')]\n",
    "#     names = [re.sub('\\.png$', '',os.path.basename(x)) for x in glob.glob('GSCdata/'+s+'*png')]\n",
    "images = np.array(images)\n",
    "print(images.shape)\n",
    "#     if(len(images)>2):\n",
    "#         train, test = np.array(train).reshape(-1,im_size), np.array(test).reshape(-1,im_size)\n",
    "#         inputs = Input(shape=(4096,))\n",
    "#         h = Dense(128, activation='sigmoid')(inputs)\n",
    "#         outputs = Dense(4096)(h)\n",
    "\n",
    "#         model = Model(input=inputs, output=outputs)\n",
    "#         model.compile(optimizer='adam', loss='mse')\n",
    "#         model.fit(images, images, batch_size=64, nb_epoch=2000)\n",
    "#         # Getting output of hidden layer\n",
    "\n",
    "#         hidden_layer_output = K.function([model.layers[0].input],[model.layers[1].output])\n",
    "#         layer_output = hidden_layer_output([images])\n",
    "#         layer_output = np.array(layer_output).reshape(-1,128)\n",
    "        \n",
    "#         wd = dict(zip(names, layer_output))\n",
    "#         d = {**d, **wd}\n",
    "# df = pd.DataFrame.from_dict(d, orient=\"index\")\n",
    "# df.to_csv(\"features.csv\")"
   ]
  },
  {
   "cell_type": "code",
   "execution_count": 28,
   "metadata": {},
   "outputs": [
    {
     "name": "stdout",
     "output_type": "stream",
     "text": [
      "(717, 4096)\n",
      "(180, 4096)\n"
     ]
    }
   ],
   "source": [
    "# train, test = train_test_split(images, test_size=0.2)\n",
    "# train, test = np.array(train).reshape(-1,im_size), np.array(test).reshape(-1,im_size)\n",
    "# print(train.shape)\n",
    "# print(test.shape)"
   ]
  },
  {
   "cell_type": "code",
   "execution_count": 47,
   "metadata": {},
   "outputs": [
    {
     "data": {
      "image/png": "[encoded data removed]",
      "text/plain": [
       "<Figure size 432x288 with 2 Axes>"
      ]
     },
     "metadata": {},
     "output_type": "display_data"
    }
   ],
   "source": [
    "plt.figure(1)\n",
    "plt.subplot(121)\n",
    "plt.imshow(images[0].reshape(64,64))\n",
    "\n",
    "plt.subplot(122)\n",
    "plt.imshow(pred[0].reshape(64,64))\n",
    "\n",
    "\n",
    "plt.show()\n"
   ]
  },
  {
   "cell_type": "code",
   "execution_count": 3,
   "metadata": {},
   "outputs": [],
   "source": [
    "from keras.layers import Input, Dense, Conv2D, MaxPooling2D, UpSampling2D,Flatten,Reshape\n",
    "from keras.models import Model\n",
    "from keras import backend as K\n",
    "\n",
    "input_img = Input(shape=(64, 64,1))  # adapt this if using `channels_first` image data format\n",
    "\n",
    "x = Conv2D(64, (64, 64), activation='relu', padding='same')(input_img)\n",
    "x = Conv2D(1, (64, 64), activation='relu', padding='same')(x)\n",
    "x = Flatten()(x)\n",
    "\n",
    "x = Dense(4096, activation='relu')(x)\n",
    "x = Dense(1024, activation='relu')(x)\n",
    "encoded = Dense(128, activation='sigmoid')(x)\n",
    "\n",
    "x = Dense(1024, activation='relu')(encoded)\n",
    "x = Dense(4096, activation='relu')(x)\n",
    "\n",
    "x = Reshape((64,64,1))(x)\n",
    "x = UpSampling2D((8,8))(x)\n",
    "x = Reshape((64,64,64))(x)\n",
    "x = Conv2D(64, (64, 64), activation='relu', padding='same')(x)\n",
    "decoded = Conv2D(1, (64, 64), activation='sigmoid', padding='same')(x)\n",
    "\n",
    "\n",
    "autoencoder = Model(input_img, decoded)\n",
    "autoencoder.compile(optimizer='adadelta', loss='binary_crossentropy')"
   ]
  },
  {
   "cell_type": "code",
   "execution_count": 4,
   "metadata": {},
   "outputs": [
    {
     "name": "stdout",
     "output_type": "stream",
     "text": [
      "_________________________________________________________________\n",
      "Layer (type)                 Output Shape              Param #   \n",
      "=================================================================\n",
      "input_1 (InputLayer)         (None, 64, 64, 1)         0         \n",
      "_________________________________________________________________\n",
      "conv2d_1 (Conv2D)            (None, 64, 64, 64)        262208    \n",
      "_________________________________________________________________\n",
      "conv2d_2 (Conv2D)            (None, 64, 64, 1)         262145    \n",
      "_________________________________________________________________\n",
      "flatten_1 (Flatten)          (None, 4096)              0         \n",
      "_________________________________________________________________\n",
      "dense_1 (Dense)              (None, 4096)              16781312  \n",
      "_________________________________________________________________\n",
      "dense_2 (Dense)              (None, 1024)              4195328   \n",
      "_________________________________________________________________\n",
      "dense_3 (Dense)              (None, 128)               131200    \n",
      "_________________________________________________________________\n",
      "dense_4 (Dense)              (None, 1024)              132096    \n",
      "_________________________________________________________________\n",
      "dense_5 (Dense)              (None, 4096)              4198400   \n",
      "_________________________________________________________________\n",
      "reshape_1 (Reshape)          (None, 64, 64, 1)         0         \n",
      "_________________________________________________________________\n",
      "up_sampling2d_1 (UpSampling2 (None, 512, 512, 1)       0         \n",
      "_________________________________________________________________\n",
      "reshape_2 (Reshape)          (None, 64, 64, 64)        0         \n",
      "_________________________________________________________________\n",
      "conv2d_3 (Conv2D)            (None, 64, 64, 64)        16777280  \n",
      "_________________________________________________________________\n",
      "conv2d_4 (Conv2D)            (None, 64, 64, 1)         262145    \n",
      "=================================================================\n",
      "Total params: 43,002,114\n",
      "Trainable params: 43,002,114\n",
      "Non-trainable params: 0\n",
      "_________________________________________________________________\n"
     ]
    }
   ],
   "source": [
    "autoencoder.summary()"
   ]
  },
  {
   "cell_type": "code",
   "execution_count": null,
   "metadata": {},
   "outputs": [
    {
     "name": "stdout",
     "output_type": "stream",
     "text": [
      "(94, 64, 64)\n"
     ]
    },
    {
     "name": "stderr",
     "output_type": "stream",
     "text": [
      "/anaconda3/lib/python3.6/site-packages/ipykernel_launcher.py:9: UserWarning: The `nb_epoch` argument in `fit` has been renamed `epochs`.\n",
      "  if __name__ == '__main__':\n"
     ]
    },
    {
     "name": "stdout",
     "output_type": "stream",
     "text": [
      "Epoch 1/2000\n"
     ]
    }
   ],
   "source": [
    "x_train, x_test = train_test_split(images, test_size=0.2)\n",
    "print(x_train.shape)\n",
    "x_train = x_train.astype('float32') / 255.\n",
    "x_test = x_test.astype('float32') / 255.\n",
    "x_train = np.reshape(x_train, (len(x_train), 64, 64, 1))  # adapt this if using `channels_first` image data format\n",
    "x_test = np.reshape(x_test, (len(x_test), 64, 64, 1))  # adapt this if using `channels_first` image data format\n",
    "# images = images.reshape(64,64,1)\n",
    "\n",
    "autoencoder.fit(x_train, x_train, batch_size=64, epochs=2000,verbose=True)"
   ]
  },
  {
   "cell_type": "code",
   "execution_count": null,
   "metadata": {},
   "outputs": [],
   "source": []
  }
 ],
 "metadata": {
  "kernelspec": {
   "display_name": "Python 3",
   "language": "python",
   "name": "python3"
  },
  "language_info": {
   "codemirror_mode": {
    "name": "ipython",
    "version": 3
   },
   "file_extension": ".py",
   "mimetype": "text/x-python",
   "name": "python",
   "nbconvert_exporter": "python",
   "pygments_lexer": "ipython3",
   "version": "3.6.5"
  }
 },
 "nbformat": 4,
 "nbformat_minor": 2
}
